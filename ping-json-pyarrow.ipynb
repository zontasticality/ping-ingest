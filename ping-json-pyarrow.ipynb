{
 "cells": [
  {
   "cell_type": "code",
   "execution_count": 2,
   "metadata": {},
   "outputs": [],
   "source": [
    "import pyarrow as pa\n",
    "\n",
    "parquet_schema = pa.schema([\n",
    "    pa.field(\"prb_id\", pa.int64(), nullable=False),\n",
    "    pa.field(\"dst_addr\", pa.string(), nullable=False),\n",
    "    pa.field(\"ts\", pa.int64(), nullable=False),\n",
    "    pa.field(\"sent\", pa.int64(), nullable=False),\n",
    "    pa.field(\"rcvd\", pa.int64(), nullable=False),\n",
    "    pa.field(\"avg\", pa.float64(), nullable=True),\n",
    "    pa.field(\"result\", pa.string(), nullable=True),\n",
    "])\n"
   ]
  },
  {
   "cell_type": "code",
   "execution_count": null,
   "metadata": {},
   "outputs": [],
   "source": [
    "import json\n",
    "import apache_beam as beam\n",
    "from apache_beam.io import ReadFromText\n",
    "from apache_beam.io.filesystem import CompressionTypes\n",
    "from apache_beam.io.parquetio import WriteToParquet\n",
    "from apache_beam.options.pipeline_options import PipelineOptions\n",
    "\n",
    "# 1. Pipeline options (adjust as needed for Dataflow/runner)\n",
    "options = PipelineOptions([])\n",
    "\n",
    "with beam.Pipeline(options=options) as p:\n",
    "    (\n",
    "        p\n",
    "        | \"ReadBZ2\" >> ReadFromText(\n",
    "            \"https://data-store.ripe.net/datasets/atlas-daily-dumps/2025-06-07/ping-2025-06-07T0000.bz2\",\n",
    "            compression_type=CompressionTypes.BZIP2,   # tell Beam to decompress BZ2 :contentReference[oaicite:6]{index=6}\n",
    "            strip_trailing_newlines=True\n",
    "          )\n",
    "\n",
    "        | \"ParseJSON\" >> beam.Map(json.loads)         # PCollection[dict] :contentReference[oaicite:7]{index=7}\n",
    "\n",
    "        | \"FilterSent\" >> beam.Filter(\n",
    "            lambda r: r.get(\"sent\", -1) == 3\n",
    "          )\n",
    "\n",
    "        | \"SelectFields\" >> beam.Map(lambda r: {\n",
    "            \"prb_id\":   r[\"prb_id\"],\n",
    "            \"dst_addr\": r[\"dst_addr\"],\n",
    "            \"ts\":       r[\"timestamp\"],\n",
    "            \"sent\":     r[\"sent\"],\n",
    "            \"rcvd\":     r[\"rcvd\"],\n",
    "            \"avg\":      r.get(\"avg\"),\n",
    "            # Keep result as JSON string or adjust to dict if desired\n",
    "            \"result\":   json.dumps(r.get(\"result\"))\n",
    "          })\n",
    "\n",
    "        | \"WriteParquet\" >> WriteToParquet(\n",
    "            file_path_prefix=\"data/ping-2025-06-10T0000.parquet\",\n",
    "            schema=parquet_schema,\n",
    "            file_name_suffix=\".parquet\",\n",
    "            codec=\"snappy\"\n",
    "          )\n",
    "    )\n"
   ]
  }
 ],
 "metadata": {
  "kernelspec": {
   "display_name": ".venv",
   "language": "python",
   "name": "python3"
  },
  "language_info": {
   "codemirror_mode": {
    "name": "ipython",
    "version": 3
   },
   "file_extension": ".py",
   "mimetype": "text/x-python",
   "name": "python",
   "nbconvert_exporter": "python",
   "pygments_lexer": "ipython3",
   "version": "3.12.3"
  }
 },
 "nbformat": 4,
 "nbformat_minor": 2
}
