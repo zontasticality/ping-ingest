{
  "cells": [
    {
      "cell_type": "code",
      "execution_count": 2,
      "metadata": {},
      "outputs": [],
      "source": [
        "import dask.bag as db\n",
        "import json\n",
        "from dask.distributed import Client\n",
        "import dask.dataframe as dd\n",
        "import xarray as xr"
      ]
    },
    {
      "cell_type": "code",
      "execution_count": null,
      "metadata": {},
      "outputs": [],
      "source": [
        "client = Client()\n",
        "client.dashboard_link"
      ]
    },
    {
      "cell_type": "code",
      "execution_count": null,
      "metadata": {},
      "outputs": [],
      "source": [
        "bag = db.read_text(\"data/ping-2025-06-10T0000.bz2\", blocksize=None).map(json.loads)"
      ]
    },
    {
      "cell_type": "code",
      "execution_count": null,
      "metadata": {},
      "outputs": [],
      "source": [
        "bag.take(2)"
      ]
    },
    {
      "cell_type": "code",
      "execution_count": 5,
      "metadata": {},
      "outputs": [],
      "source": [
        "bag2 = bag.map(lambda rec: {**rec, \"result\": json.dumps(rec[\"result\"])})"
      ]
    },
    {
      "cell_type": "code",
      "execution_count": 4,
      "metadata": {},
      "outputs": [],
      "source": [
        "# types = bag.map(lambda rec: type(rec.get(\"ttl\"))).distinct().compute()\n",
        "# print(types)"
      ]
    },
    {
      "cell_type": "code",
      "execution_count": null,
      "metadata": {},
      "outputs": [],
      "source": [
        "# 1. Pull a representative sample (e.g. first 1 000 records)\n",
        "sample = bag2.take(1000, warn=False)\n",
        "\n",
        "# 2. Build a pandas DataFrame from the sample and drop all rows\n",
        "import pandas as pd\n",
        "meta = pd.DataFrame(sample).head(1)\n",
        "display(meta)\n",
        "print()\n",
        "# 3. Inspect `meta` to confirm column names and dtypes\n",
        "meta[\"ttl\"] = meta[\"ttl\"].astype(\"Int64\")\n",
        "print(meta.dtypes)"
      ]
    },
    {
      "cell_type": "code",
      "execution_count": null,
      "metadata": {},
      "outputs": [],
      "source": [
        "def parse_ping(record):\n",
        "    try:\n",
        "        return {\n",
        "            'src_addr': record['src_addr'],\n",
        "            'dst_addr': record['dst_addr'],\n",
        "            'timestamp': record['timestamp'],\n",
        "            'rtt': record['avg']\n",
        "        }\n",
        "    except (KeyError, IndexError):\n",
        "        return 'k'"
      ]
    },
    {
      "cell_type": "code",
      "execution_count": 29,
      "metadata": {},
      "outputs": [],
      "source": [
        "df = bag2.to_dataframe(meta=meta)"
      ]
    },
    {
      "cell_type": "code",
      "execution_count": 30,
      "metadata": {},
      "outputs": [],
      "source": [
        "df.to_parquet(\"data/ping-2025-06-10-0h-lat\", engine=\"pyarrow\")"
      ]
    }
  ],
  "metadata": {
    "kernelspec": {
      "display_name": ".venv",
      "language": "python",
      "name": "python3"
    },
    "language_info": {
      "codemirror_mode": {
        "name": "ipython",
        "version": 3
      },
      "file_extension": ".py",
      "mimetype": "text/x-python",
      "name": "python",
      "nbconvert_exporter": "python",
      "pygments_lexer": "ipython3",
      "version": "3.12.9"
    }
  },
  "nbformat": 4,
  "nbformat_minor": 4
}
