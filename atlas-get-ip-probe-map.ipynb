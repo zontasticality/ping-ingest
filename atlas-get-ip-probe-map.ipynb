{
 "cells": [
  {
   "cell_type": "code",
   "execution_count": null,
   "metadata": {},
   "outputs": [],
   "source": [
    "from ripe.atlas.cousteau import ProbeRequest\n",
    "import pandas as pd\n",
    "\n",
    "probes = ProbeRequest().__iter__()   # fetches all probes lazily\n",
    "rows = []\n",
    "for p in probes:\n",
    "    # Access probe data as dictionary keys, not attributes\n",
    "    for ip in (p.get('address_v4'), p.get('address_v6')):\n",
    "        if ip:\n",
    "            print(ip, p['id'])\n",
    "            rows.append({\"ip\": ip, \"dst_prb_id\": p['id']})\n",
    "\n",
    "pd.DataFrame(rows).to_csv(\"probe_ip_map.csv\", index=False)"
   ]
  }
 ],
 "metadata": {
  "kernelspec": {
   "display_name": ".venv",
   "language": "python",
   "name": "python3"
  },
  "language_info": {
   "codemirror_mode": {
    "name": "ipython",
    "version": 3
   },
   "file_extension": ".py",
   "mimetype": "text/x-python",
   "name": "python",
   "nbconvert_exporter": "python",
   "pygments_lexer": "ipython3",
   "version": "3.12.9"
  }
 },
 "nbformat": 4,
 "nbformat_minor": 2
}
